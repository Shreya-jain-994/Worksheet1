{
 "cells": [
  {
   "cell_type": "markdown",
   "metadata": {},
   "source": [
    "# Write a python program to print the frequency of each of the characters present in a given string"
   ]
  },
  {
   "cell_type": "code",
   "execution_count": 3,
   "metadata": {},
   "outputs": [
    {
     "name": "stdout",
     "output_type": "stream",
     "text": [
      "Per char frequency in 'Flip Robo' is :\n",
      " {'F': 1, 'l': 1, 'i': 1, 'p': 1, ' ': 1, 'R': 1, 'o': 2, 'b': 1}\n",
      "Type of frequency_per_char is:  <class 'collections.Counter'>\n"
     ]
    }
   ],
   "source": [
    "input_string = \"Flip Robo\"\n",
    "frequencies = {} \n",
    "  \n",
    "for char in input_string: \n",
    "   if char in frequencies: \n",
    "      frequencies[char] += 1\n",
    "   else: \n",
    "      frequencies[char] = 1\n",
    "\n",
    "print (\"Per char frequency in '{}' is :\\n {}\".format(input_string, str(frequencies)))\n",
    "print (\"Type of frequency_per_char is: \", type(frequency_per_char))"
   ]
  },
  {
   "cell_type": "code",
   "execution_count": null,
   "metadata": {},
   "outputs": [],
   "source": []
  }
 ],
 "metadata": {
  "kernelspec": {
   "display_name": "Python 3",
   "language": "python",
   "name": "python3"
  },
  "language_info": {
   "codemirror_mode": {
    "name": "ipython",
    "version": 3
   },
   "file_extension": ".py",
   "mimetype": "text/x-python",
   "name": "python",
   "nbconvert_exporter": "python",
   "pygments_lexer": "ipython3",
   "version": "3.8.5"
  }
 },
 "nbformat": 4,
 "nbformat_minor": 4
}
