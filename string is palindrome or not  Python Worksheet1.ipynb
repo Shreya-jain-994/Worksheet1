{
 "cells": [
  {
   "cell_type": "markdown",
   "metadata": {},
   "source": [
    "# 13. Write a python program to check whether a given string is palindrome or not"
   ]
  },
  {
   "cell_type": "code",
   "execution_count": 2,
   "metadata": {},
   "outputs": [
    {
     "name": "stdout",
     "output_type": "stream",
     "text": [
      "Please enter your own String : radar\n",
      "This is a Palindrome String\n"
     ]
    }
   ],
   "source": [
    "string = input(\"Please enter your own String : \")\n",
    "\n",
    "if(string == string[:: - 1]):\n",
    "   print(\"This is a Palindrome String\")\n",
    "else:\n",
    "   print(\"This is Not a Palindrome String\")"
   ]
  },
  {
   "cell_type": "code",
   "execution_count": null,
   "metadata": {},
   "outputs": [],
   "source": []
  }
 ],
 "metadata": {
  "kernelspec": {
   "display_name": "Python 3",
   "language": "python",
   "name": "python3"
  },
  "language_info": {
   "codemirror_mode": {
    "name": "ipython",
    "version": 3
   },
   "file_extension": ".py",
   "mimetype": "text/x-python",
   "name": "python",
   "nbconvert_exporter": "python",
   "pygments_lexer": "ipython3",
   "version": "3.8.5"
  }
 },
 "nbformat": 4,
 "nbformat_minor": 4
}
